{
  "nbformat": 4,
  "nbformat_minor": 0,
  "metadata": {
    "colab": {
      "name": "TFIDF.ipynb",
      "provenance": [],
      "authorship_tag": "ABX9TyP+iIpzBmJ4g6EbChy/v+yE",
      "include_colab_link": true
    },
    "kernelspec": {
      "name": "python3",
      "display_name": "Python 3"
    },
    "language_info": {
      "name": "python"
    }
  },
  "cells": [
    {
      "cell_type": "markdown",
      "metadata": {
        "id": "view-in-github",
        "colab_type": "text"
      },
      "source": [
        "<a href=\"https://colab.research.google.com/github/boleamol/NLP/blob/main/TFIDF.ipynb\" target=\"_parent\"><img src=\"https://colab.research.google.com/assets/colab-badge.svg\" alt=\"Open In Colab\"/></a>"
      ]
    },
    {
      "cell_type": "code",
      "metadata": {
        "id": "9RDF-VmlHpn8"
      },
      "source": [
        "import nltk\n",
        "import re\n",
        "from nltk.corpus import stopwords\n",
        "from nltk.stem.porter import PorterStemmer\n",
        "from nltk.stem import WordNetLemmatizer"
      ],
      "execution_count": 1,
      "outputs": []
    },
    {
      "cell_type": "code",
      "metadata": {
        "colab": {
          "base_uri": "https://localhost:8080/"
        },
        "id": "WQyoznOpIPCW",
        "outputId": "d3a11ac4-4985-4373-d58f-ed2a0ad1796a"
      },
      "source": [
        "nltk.download('punkt')\n",
        "nltk.download('stopwords')\n",
        "nltk.download('wordnet')"
      ],
      "execution_count": 2,
      "outputs": [
        {
          "output_type": "stream",
          "text": [
            "[nltk_data] Downloading package punkt to /root/nltk_data...\n",
            "[nltk_data]   Unzipping tokenizers/punkt.zip.\n",
            "[nltk_data] Downloading package stopwords to /root/nltk_data...\n",
            "[nltk_data]   Unzipping corpora/stopwords.zip.\n",
            "[nltk_data] Downloading package wordnet to /root/nltk_data...\n",
            "[nltk_data]   Unzipping corpora/wordnet.zip.\n"
          ],
          "name": "stdout"
        },
        {
          "output_type": "execute_result",
          "data": {
            "text/plain": [
              "True"
            ]
          },
          "metadata": {},
          "execution_count": 2
        }
      ]
    },
    {
      "cell_type": "code",
      "metadata": {
        "id": "thQCTRJmIRwj"
      },
      "source": [
        "paragraph = \"\"\"Data science is an interdisciplinary field that uses scientific methods, processes, algorithms and systems to extract knowledge and insights from data in various forms, both structured and unstructured, similar to data mining. Data science is a \"concept to unify statistics, data analysis, machine learning and their related methods\" in order to \"understand and analyze actual phenomena\" with data. It employs techniques and theories drawn from many fields within the context of mathematics, statistics, information science, and computer science. Turing award winner Jim Gray imagined data science as a \"fourth paradigm\" of science (empirical, theoretical, computational and now data-driven) and asserted that \"everything about science is changing because of the impact of information technology\" and the data deluge. Data Science is now often used interchangeably with earlier concepts like business analytics, business intelligence, predictive modeling, and statistics. In many cases, earlier approaches and solutions are now simply rebranded as \"data science\" to be more attractive, which can cause the term to become \"dilute beyond usefulness.\"While many university programs now offer a data science degree, there exists no consensus on a definition or suitable curriculum contents.To its discredit, however, many data-science and big-data projects fail to deliver useful results, often as a result of poor management and utilization of resources.\"\"\""
      ],
      "execution_count": 3,
      "outputs": []
    },
    {
      "cell_type": "code",
      "metadata": {
        "id": "3iF9rYMNITni"
      },
      "source": [
        "sentences = nltk.sent_tokenize(paragraph)  # converted paragraph to sentences.\n",
        "lemmatizer = WordNetLemmatizer()  # You may use PorterStemmer() for stemming.\n",
        "corpus = []"
      ],
      "execution_count": 4,
      "outputs": []
    },
    {
      "cell_type": "code",
      "metadata": {
        "id": "Jdp05zkdIWCj"
      },
      "source": [
        "# Lemmatization\n",
        "for i in range(len(sentences)):\n",
        "    review = re.sub('[^a-zA-Z]', ' ', sentences[i])  # Removing special symbol from Sentence\n",
        "    review = review.lower()    # Converted Sentence tp Lower case\n",
        "    review = review.split()    # Splitted Sentence to Words\n",
        "    review = [lemmatizer.lemmatize(word) for word in review if not word in set(stopwords.words('english'))]  # Removing stopwords and Lemmatization\n",
        "    review = ' '.join(review)\n",
        "    corpus.append(review)  # Appended to corpus"
      ],
      "execution_count": 5,
      "outputs": []
    },
    {
      "cell_type": "code",
      "metadata": {
        "colab": {
          "base_uri": "https://localhost:8080/"
        },
        "id": "NPRNExzjIYmK",
        "outputId": "6905b60d-6f9d-42d1-ac75-293447782681"
      },
      "source": [
        "sentences"
      ],
      "execution_count": 6,
      "outputs": [
        {
          "output_type": "execute_result",
          "data": {
            "text/plain": [
              "['Data science is an interdisciplinary field that uses scientific methods, processes, algorithms and systems to extract knowledge and insights from data in various forms, both structured and unstructured, similar to data mining.',\n",
              " 'Data science is a \"concept to unify statistics, data analysis, machine learning and their related methods\" in order to \"understand and analyze actual phenomena\" with data.',\n",
              " 'It employs techniques and theories drawn from many fields within the context of mathematics, statistics, information science, and computer science.',\n",
              " 'Turing award winner Jim Gray imagined data science as a \"fourth paradigm\" of science (empirical, theoretical, computational and now data-driven) and asserted that \"everything about science is changing because of the impact of information technology\" and the data deluge.',\n",
              " 'Data Science is now often used interchangeably with earlier concepts like business analytics, business intelligence, predictive modeling, and statistics.',\n",
              " 'In many cases, earlier approaches and solutions are now simply rebranded as \"data science\" to be more attractive, which can cause the term to become \"dilute beyond usefulness.',\n",
              " '\"While many university programs now offer a data science degree, there exists no consensus on a definition or suitable curriculum contents.To its discredit, however, many data-science and big-data projects fail to deliver useful results, often as a result of poor management and utilization of resources.']"
            ]
          },
          "metadata": {},
          "execution_count": 6
        }
      ]
    },
    {
      "cell_type": "code",
      "metadata": {
        "colab": {
          "base_uri": "https://localhost:8080/"
        },
        "id": "S-udcGxZIaVT",
        "outputId": "837e8d43-02d4-4796-fb1d-400a2fbe189b"
      },
      "source": [
        "corpus"
      ],
      "execution_count": 7,
      "outputs": [
        {
          "output_type": "execute_result",
          "data": {
            "text/plain": [
              "['data science interdisciplinary field us scientific method process algorithm system extract knowledge insight data various form structured unstructured similar data mining',\n",
              " 'data science concept unify statistic data analysis machine learning related method order understand analyze actual phenomenon data',\n",
              " 'employ technique theory drawn many field within context mathematics statistic information science computer science',\n",
              " 'turing award winner jim gray imagined data science fourth paradigm science empirical theoretical computational data driven asserted everything science changing impact information technology data deluge',\n",
              " 'data science often used interchangeably earlier concept like business analytics business intelligence predictive modeling statistic',\n",
              " 'many case earlier approach solution simply rebranded data science attractive cause term become dilute beyond usefulness',\n",
              " 'many university program offer data science degree exists consensus definition suitable curriculum content discredit however many data science big data project fail deliver useful result often result poor management utilization resource']"
            ]
          },
          "metadata": {},
          "execution_count": 7
        }
      ]
    },
    {
      "cell_type": "code",
      "metadata": {
        "id": "pjNRd1PbIcCS"
      },
      "source": [
        "# Creating the TF-IDF model\n",
        "from sklearn.feature_extraction.text import TfidfVectorizer\n",
        "cv = TfidfVectorizer()\n",
        "X = cv.fit_transform(corpus).toarray()"
      ],
      "execution_count": 8,
      "outputs": []
    },
    {
      "cell_type": "code",
      "metadata": {
        "colab": {
          "base_uri": "https://localhost:8080/"
        },
        "id": "lBh-jkXXIvoV",
        "outputId": "93703987-e1ed-437a-eef2-bffab419b692"
      },
      "source": [
        "X # TF-IDF Vector"
      ],
      "execution_count": 9,
      "outputs": [
        {
          "output_type": "execute_result",
          "data": {
            "text/plain": [
              "array([[0.        , 0.23196631, 0.        , 0.        , 0.        ,\n",
              "        0.        , 0.        , 0.        , 0.        , 0.        ,\n",
              "        0.        , 0.        , 0.        , 0.        , 0.        ,\n",
              "        0.        , 0.        , 0.        , 0.        , 0.        ,\n",
              "        0.        , 0.        , 0.        , 0.33056411, 0.        ,\n",
              "        0.        , 0.        , 0.        , 0.        , 0.        ,\n",
              "        0.        , 0.        , 0.        , 0.        , 0.        ,\n",
              "        0.        , 0.        , 0.23196631, 0.        , 0.19255196,\n",
              "        0.23196631, 0.        , 0.        , 0.        , 0.        ,\n",
              "        0.        , 0.        , 0.23196631, 0.        , 0.        ,\n",
              "        0.23196631, 0.        , 0.23196631, 0.        , 0.        ,\n",
              "        0.        , 0.        , 0.        , 0.        , 0.19255196,\n",
              "        0.23196631, 0.        , 0.        , 0.        , 0.        ,\n",
              "        0.        , 0.        , 0.        , 0.        , 0.23196631,\n",
              "        0.        , 0.        , 0.        , 0.        , 0.        ,\n",
              "        0.        , 0.09720775, 0.23196631, 0.23196631, 0.        ,\n",
              "        0.        , 0.        , 0.23196631, 0.        , 0.23196631,\n",
              "        0.        , 0.        , 0.        , 0.        , 0.        ,\n",
              "        0.        , 0.        , 0.        , 0.        , 0.23196631,\n",
              "        0.23196631, 0.        , 0.        , 0.        , 0.        ,\n",
              "        0.23196631, 0.        , 0.        ],\n",
              "       [0.26642614, 0.        , 0.26642614, 0.        , 0.26642614,\n",
              "        0.        , 0.        , 0.        , 0.        , 0.        ,\n",
              "        0.        , 0.        , 0.        , 0.        , 0.        ,\n",
              "        0.        , 0.        , 0.        , 0.22115657, 0.        ,\n",
              "        0.        , 0.        , 0.        , 0.37967117, 0.        ,\n",
              "        0.        , 0.        , 0.        , 0.        , 0.        ,\n",
              "        0.        , 0.        , 0.        , 0.        , 0.        ,\n",
              "        0.        , 0.        , 0.        , 0.        , 0.        ,\n",
              "        0.        , 0.        , 0.        , 0.        , 0.        ,\n",
              "        0.        , 0.        , 0.        , 0.        , 0.        ,\n",
              "        0.        , 0.        , 0.        , 0.26642614, 0.        ,\n",
              "        0.26642614, 0.        , 0.        , 0.        , 0.22115657,\n",
              "        0.        , 0.        , 0.        , 0.        , 0.26642614,\n",
              "        0.        , 0.26642614, 0.        , 0.        , 0.        ,\n",
              "        0.        , 0.        , 0.        , 0.26642614, 0.        ,\n",
              "        0.        , 0.11164848, 0.        , 0.        , 0.        ,\n",
              "        0.        , 0.18903731, 0.        , 0.        , 0.        ,\n",
              "        0.        , 0.        , 0.        , 0.        , 0.        ,\n",
              "        0.        , 0.26642614, 0.26642614, 0.        , 0.        ,\n",
              "        0.        , 0.        , 0.        , 0.        , 0.        ,\n",
              "        0.        , 0.        , 0.        ],\n",
              "       [0.        , 0.        , 0.        , 0.        , 0.        ,\n",
              "        0.        , 0.        , 0.        , 0.        , 0.        ,\n",
              "        0.        , 0.        , 0.        , 0.        , 0.        ,\n",
              "        0.        , 0.        , 0.30032068, 0.        , 0.        ,\n",
              "        0.        , 0.30032068, 0.        , 0.        , 0.        ,\n",
              "        0.        , 0.        , 0.        , 0.        , 0.        ,\n",
              "        0.30032068, 0.        , 0.        , 0.        , 0.30032068,\n",
              "        0.        , 0.        , 0.        , 0.        , 0.24929196,\n",
              "        0.        , 0.        , 0.        , 0.        , 0.        ,\n",
              "        0.        , 0.24929196, 0.        , 0.        , 0.        ,\n",
              "        0.        , 0.        , 0.        , 0.        , 0.        ,\n",
              "        0.        , 0.        , 0.2130865 , 0.30032068, 0.        ,\n",
              "        0.        , 0.        , 0.        , 0.        , 0.        ,\n",
              "        0.        , 0.        , 0.        , 0.        , 0.        ,\n",
              "        0.        , 0.        , 0.        , 0.        , 0.        ,\n",
              "        0.        , 0.25170464, 0.        , 0.        , 0.        ,\n",
              "        0.        , 0.2130865 , 0.        , 0.        , 0.        ,\n",
              "        0.30032068, 0.        , 0.        , 0.        , 0.30032068,\n",
              "        0.        , 0.        , 0.        , 0.        , 0.        ,\n",
              "        0.        , 0.        , 0.        , 0.        , 0.        ,\n",
              "        0.        , 0.        , 0.30032068],\n",
              "       [0.        , 0.        , 0.        , 0.        , 0.        ,\n",
              "        0.        , 0.21176027, 0.        , 0.21176027, 0.        ,\n",
              "        0.        , 0.        , 0.        , 0.        , 0.        ,\n",
              "        0.21176027, 0.21176027, 0.        , 0.        , 0.        ,\n",
              "        0.        , 0.        , 0.        , 0.30176946, 0.        ,\n",
              "        0.        , 0.        , 0.21176027, 0.        , 0.        ,\n",
              "        0.        , 0.21176027, 0.        , 0.21176027, 0.        ,\n",
              "        0.21176027, 0.        , 0.        , 0.        , 0.        ,\n",
              "        0.        , 0.21176027, 0.21176027, 0.        , 0.21176027,\n",
              "        0.21176027, 0.17577921, 0.        , 0.        , 0.        ,\n",
              "        0.        , 0.21176027, 0.        , 0.        , 0.        ,\n",
              "        0.        , 0.        , 0.        , 0.        , 0.        ,\n",
              "        0.        , 0.        , 0.        , 0.        , 0.        ,\n",
              "        0.21176027, 0.        , 0.        , 0.        , 0.        ,\n",
              "        0.        , 0.        , 0.        , 0.        , 0.        ,\n",
              "        0.        , 0.26622064, 0.        , 0.        , 0.        ,\n",
              "        0.        , 0.        , 0.        , 0.        , 0.        ,\n",
              "        0.        , 0.21176027, 0.        , 0.21176027, 0.        ,\n",
              "        0.21176027, 0.        , 0.        , 0.        , 0.        ,\n",
              "        0.        , 0.        , 0.        , 0.        , 0.        ,\n",
              "        0.        , 0.21176027, 0.        ],\n",
              "       [0.        , 0.        , 0.        , 0.26753069, 0.        ,\n",
              "        0.        , 0.        , 0.        , 0.        , 0.        ,\n",
              "        0.        , 0.        , 0.53506139, 0.        , 0.        ,\n",
              "        0.        , 0.        , 0.        , 0.22207345, 0.        ,\n",
              "        0.        , 0.        , 0.        , 0.12708174, 0.        ,\n",
              "        0.        , 0.        , 0.        , 0.        , 0.        ,\n",
              "        0.        , 0.        , 0.22207345, 0.        , 0.        ,\n",
              "        0.        , 0.        , 0.        , 0.        , 0.        ,\n",
              "        0.        , 0.        , 0.        , 0.        , 0.        ,\n",
              "        0.        , 0.        , 0.        , 0.26753069, 0.26753069,\n",
              "        0.        , 0.        , 0.        , 0.        , 0.26753069,\n",
              "        0.        , 0.        , 0.        , 0.        , 0.        ,\n",
              "        0.        , 0.26753069, 0.        , 0.22207345, 0.        ,\n",
              "        0.        , 0.        , 0.        , 0.26753069, 0.        ,\n",
              "        0.        , 0.        , 0.        , 0.        , 0.        ,\n",
              "        0.        , 0.11211136, 0.        , 0.        , 0.        ,\n",
              "        0.        , 0.18982103, 0.        , 0.        , 0.        ,\n",
              "        0.        , 0.        , 0.        , 0.        , 0.        ,\n",
              "        0.        , 0.        , 0.        , 0.        , 0.        ,\n",
              "        0.        , 0.26753069, 0.        , 0.        , 0.        ,\n",
              "        0.        , 0.        , 0.        ],\n",
              "       [0.        , 0.        , 0.        , 0.        , 0.        ,\n",
              "        0.27122562, 0.        , 0.27122562, 0.        , 0.27122562,\n",
              "        0.27122562, 0.        , 0.        , 0.27122562, 0.27122562,\n",
              "        0.        , 0.        , 0.        , 0.        , 0.        ,\n",
              "        0.        , 0.        , 0.        , 0.1288369 , 0.        ,\n",
              "        0.        , 0.        , 0.        , 0.27122562, 0.        ,\n",
              "        0.        , 0.        , 0.22514056, 0.        , 0.        ,\n",
              "        0.        , 0.        , 0.        , 0.        , 0.        ,\n",
              "        0.        , 0.        , 0.        , 0.        , 0.        ,\n",
              "        0.        , 0.        , 0.        , 0.        , 0.        ,\n",
              "        0.        , 0.        , 0.        , 0.        , 0.        ,\n",
              "        0.        , 0.        , 0.19244269, 0.        , 0.        ,\n",
              "        0.        , 0.        , 0.        , 0.        , 0.        ,\n",
              "        0.        , 0.        , 0.        , 0.        , 0.        ,\n",
              "        0.        , 0.        , 0.27122562, 0.        , 0.        ,\n",
              "        0.        , 0.11365975, 0.        , 0.        , 0.27122562,\n",
              "        0.27122562, 0.        , 0.        , 0.        , 0.        ,\n",
              "        0.        , 0.        , 0.27122562, 0.        , 0.        ,\n",
              "        0.        , 0.        , 0.        , 0.        , 0.        ,\n",
              "        0.        , 0.        , 0.        , 0.27122562, 0.        ,\n",
              "        0.        , 0.        , 0.        ],\n",
              "       [0.        , 0.        , 0.        , 0.        , 0.        ,\n",
              "        0.        , 0.        , 0.        , 0.        , 0.        ,\n",
              "        0.        , 0.18126179, 0.        , 0.        , 0.        ,\n",
              "        0.        , 0.        , 0.        , 0.        , 0.18126179,\n",
              "        0.18126179, 0.        , 0.18126179, 0.25830753, 0.18126179,\n",
              "        0.18126179, 0.18126179, 0.        , 0.        , 0.18126179,\n",
              "        0.        , 0.        , 0.        , 0.        , 0.        ,\n",
              "        0.        , 0.18126179, 0.        , 0.18126179, 0.        ,\n",
              "        0.        , 0.        , 0.        , 0.18126179, 0.        ,\n",
              "        0.        , 0.        , 0.        , 0.        , 0.        ,\n",
              "        0.        , 0.        , 0.        , 0.        , 0.        ,\n",
              "        0.        , 0.18126179, 0.25722132, 0.        , 0.        ,\n",
              "        0.        , 0.        , 0.18126179, 0.15046286, 0.        ,\n",
              "        0.        , 0.        , 0.18126179, 0.        , 0.        ,\n",
              "        0.18126179, 0.18126179, 0.        , 0.        , 0.18126179,\n",
              "        0.36252359, 0.15191906, 0.        , 0.        , 0.        ,\n",
              "        0.        , 0.        , 0.        , 0.18126179, 0.        ,\n",
              "        0.        , 0.        , 0.        , 0.        , 0.        ,\n",
              "        0.        , 0.        , 0.        , 0.18126179, 0.        ,\n",
              "        0.        , 0.        , 0.18126179, 0.        , 0.18126179,\n",
              "        0.        , 0.        , 0.        ]])"
            ]
          },
          "metadata": {},
          "execution_count": 9
        }
      ]
    },
    {
      "cell_type": "code",
      "metadata": {
        "id": "ZA7OlCcvIws0"
      },
      "source": [
        "# Bag of Words just creates a set of vectors containing the count of word occurrences in the document (reviews), while the TF-IDF model contains information on the more important words and the less important ones as well.\n",
        "# Bag of Words vectors are easy to interpret. However, TF-IDF usually performs better in machine learning models.\n"
      ],
      "execution_count": null,
      "outputs": []
    }
  ]
}