{
  "nbformat": 4,
  "nbformat_minor": 0,
  "metadata": {
    "colab": {
      "name": "word2vec.ipynb",
      "provenance": [],
      "collapsed_sections": [],
      "authorship_tag": "ABX9TyPLW9ieDrswkgwILWIgtodM",
      "include_colab_link": true
    },
    "kernelspec": {
      "name": "python3",
      "display_name": "Python 3"
    },
    "language_info": {
      "name": "python"
    }
  },
  "cells": [
    {
      "cell_type": "markdown",
      "metadata": {
        "id": "view-in-github",
        "colab_type": "text"
      },
      "source": [
        "<a href=\"https://colab.research.google.com/github/boleamol/NLP/blob/main/word2vec.ipynb\" target=\"_parent\"><img src=\"https://colab.research.google.com/assets/colab-badge.svg\" alt=\"Open In Colab\"/></a>"
      ]
    },
    {
      "cell_type": "code",
      "metadata": {
        "id": "NerEBAbwKuLA"
      },
      "source": [
        "import nltk\n",
        "import re\n",
        "from nltk.corpus import stopwords\n",
        "from gensim.models import Word2Vec   # Gensim Library used for Word2vec\n",
        "from nltk.stem import WordNetLemmatizer"
      ],
      "execution_count": 20,
      "outputs": []
    },
    {
      "cell_type": "code",
      "metadata": {
        "colab": {
          "base_uri": "https://localhost:8080/"
        },
        "id": "ECWOVbI_KzTH",
        "outputId": "a2abff8b-e058-4ee1-9284-582f4a29d7c5"
      },
      "source": [
        "nltk.download('punkt')\n",
        "nltk.download('stopwords')\n",
        "nltk.download('wordnet')"
      ],
      "execution_count": 21,
      "outputs": [
        {
          "output_type": "stream",
          "text": [
            "[nltk_data] Downloading package punkt to /root/nltk_data...\n",
            "[nltk_data]   Package punkt is already up-to-date!\n",
            "[nltk_data] Downloading package stopwords to /root/nltk_data...\n",
            "[nltk_data]   Package stopwords is already up-to-date!\n",
            "[nltk_data] Downloading package wordnet to /root/nltk_data...\n",
            "[nltk_data]   Package wordnet is already up-to-date!\n"
          ],
          "name": "stdout"
        },
        {
          "output_type": "execute_result",
          "data": {
            "text/plain": [
              "True"
            ]
          },
          "metadata": {},
          "execution_count": 21
        }
      ]
    },
    {
      "cell_type": "code",
      "metadata": {
        "id": "9KfuZ77_K2By"
      },
      "source": [
        "paragraph = \"\"\"Data science is an interdisciplinary field that uses scientific methods, processes, algorithms and systems to extract knowledge and insights from data in various forms, both structured and unstructured, similar to data mining. Data science is a \"concept to unify statistics, data analysis, machine learning and their related methods\" in order to \"understand and analyze actual phenomena\" with data. It employs techniques and theories drawn from many fields within the context of mathematics, statistics, information science, and computer science. Turing award winner Jim Gray imagined data science as a \"fourth paradigm\" of science (empirical, theoretical, computational and now data-driven) and asserted that \"everything about science is changing because of the impact of information technology\" and the data deluge. Data Science is now often used interchangeably with earlier concepts like business analytics, business intelligence, predictive modeling, and statistics. In many cases, earlier approaches and solutions are now simply rebranded as \"data science\" to be more attractive, which can cause the term to become \"dilute beyond usefulness.\"While many university programs now offer a data science degree, there exists no consensus on a definition or suitable curriculum contents.To its discredit, however, many data-science and big-data projects fail to deliver useful results, often as a result of poor management and utilization of resources.\"\"\""
      ],
      "execution_count": 22,
      "outputs": []
    },
    {
      "cell_type": "code",
      "metadata": {
        "id": "xxW49ZwRK5EW"
      },
      "source": [
        "sentences = nltk.sent_tokenize(paragraph)  # converted paragraph to sentences.\n",
        "sentences = [nltk.word_tokenize(sentence) for sentence in sentences] # Sentences to word"
      ],
      "execution_count": 32,
      "outputs": []
    },
    {
      "cell_type": "code",
      "metadata": {
        "id": "cTGC2YikK9R8"
      },
      "source": [
        "for i in range(len(sentences)):\n",
        "    sentences[i] = [word for word in sentences[i] if word not in stopwords.words('english')]"
      ],
      "execution_count": 33,
      "outputs": []
    },
    {
      "cell_type": "code",
      "metadata": {
        "colab": {
          "base_uri": "https://localhost:8080/"
        },
        "id": "M22Cg6sCK_bk",
        "outputId": "e94e13d1-8759-4ac7-ebfd-ca407a522dbc"
      },
      "source": [
        "sentences"
      ],
      "execution_count": 34,
      "outputs": [
        {
          "output_type": "execute_result",
          "data": {
            "text/plain": [
              "[['Data',\n",
              "  'science',\n",
              "  'interdisciplinary',\n",
              "  'field',\n",
              "  'uses',\n",
              "  'scientific',\n",
              "  'methods',\n",
              "  ',',\n",
              "  'processes',\n",
              "  ',',\n",
              "  'algorithms',\n",
              "  'systems',\n",
              "  'extract',\n",
              "  'knowledge',\n",
              "  'insights',\n",
              "  'data',\n",
              "  'various',\n",
              "  'forms',\n",
              "  ',',\n",
              "  'structured',\n",
              "  'unstructured',\n",
              "  ',',\n",
              "  'similar',\n",
              "  'data',\n",
              "  'mining',\n",
              "  '.'],\n",
              " ['Data',\n",
              "  'science',\n",
              "  '``',\n",
              "  'concept',\n",
              "  'unify',\n",
              "  'statistics',\n",
              "  ',',\n",
              "  'data',\n",
              "  'analysis',\n",
              "  ',',\n",
              "  'machine',\n",
              "  'learning',\n",
              "  'related',\n",
              "  'methods',\n",
              "  \"''\",\n",
              "  'order',\n",
              "  '``',\n",
              "  'understand',\n",
              "  'analyze',\n",
              "  'actual',\n",
              "  'phenomena',\n",
              "  \"''\",\n",
              "  'data',\n",
              "  '.'],\n",
              " ['It',\n",
              "  'employs',\n",
              "  'techniques',\n",
              "  'theories',\n",
              "  'drawn',\n",
              "  'many',\n",
              "  'fields',\n",
              "  'within',\n",
              "  'context',\n",
              "  'mathematics',\n",
              "  ',',\n",
              "  'statistics',\n",
              "  ',',\n",
              "  'information',\n",
              "  'science',\n",
              "  ',',\n",
              "  'computer',\n",
              "  'science',\n",
              "  '.'],\n",
              " ['Turing',\n",
              "  'award',\n",
              "  'winner',\n",
              "  'Jim',\n",
              "  'Gray',\n",
              "  'imagined',\n",
              "  'data',\n",
              "  'science',\n",
              "  '``',\n",
              "  'fourth',\n",
              "  'paradigm',\n",
              "  \"''\",\n",
              "  'science',\n",
              "  '(',\n",
              "  'empirical',\n",
              "  ',',\n",
              "  'theoretical',\n",
              "  ',',\n",
              "  'computational',\n",
              "  'data-driven',\n",
              "  ')',\n",
              "  'asserted',\n",
              "  '``',\n",
              "  'everything',\n",
              "  'science',\n",
              "  'changing',\n",
              "  'impact',\n",
              "  'information',\n",
              "  'technology',\n",
              "  \"''\",\n",
              "  'data',\n",
              "  'deluge',\n",
              "  '.'],\n",
              " ['Data',\n",
              "  'Science',\n",
              "  'often',\n",
              "  'used',\n",
              "  'interchangeably',\n",
              "  'earlier',\n",
              "  'concepts',\n",
              "  'like',\n",
              "  'business',\n",
              "  'analytics',\n",
              "  ',',\n",
              "  'business',\n",
              "  'intelligence',\n",
              "  ',',\n",
              "  'predictive',\n",
              "  'modeling',\n",
              "  ',',\n",
              "  'statistics',\n",
              "  '.'],\n",
              " ['In',\n",
              "  'many',\n",
              "  'cases',\n",
              "  ',',\n",
              "  'earlier',\n",
              "  'approaches',\n",
              "  'solutions',\n",
              "  'simply',\n",
              "  'rebranded',\n",
              "  '``',\n",
              "  'data',\n",
              "  'science',\n",
              "  \"''\",\n",
              "  'attractive',\n",
              "  ',',\n",
              "  'cause',\n",
              "  'term',\n",
              "  'become',\n",
              "  '``',\n",
              "  'dilute',\n",
              "  'beyond',\n",
              "  'usefulness',\n",
              "  '.'],\n",
              " ['``',\n",
              "  'While',\n",
              "  'many',\n",
              "  'university',\n",
              "  'programs',\n",
              "  'offer',\n",
              "  'data',\n",
              "  'science',\n",
              "  'degree',\n",
              "  ',',\n",
              "  'exists',\n",
              "  'consensus',\n",
              "  'definition',\n",
              "  'suitable',\n",
              "  'curriculum',\n",
              "  'contents.To',\n",
              "  'discredit',\n",
              "  ',',\n",
              "  'however',\n",
              "  ',',\n",
              "  'many',\n",
              "  'data-science',\n",
              "  'big-data',\n",
              "  'projects',\n",
              "  'fail',\n",
              "  'deliver',\n",
              "  'useful',\n",
              "  'results',\n",
              "  ',',\n",
              "  'often',\n",
              "  'result',\n",
              "  'poor',\n",
              "  'management',\n",
              "  'utilization',\n",
              "  'resources',\n",
              "  '.']]"
            ]
          },
          "metadata": {},
          "execution_count": 34
        }
      ]
    },
    {
      "cell_type": "code",
      "metadata": {
        "id": "YV85zFIJLBxK"
      },
      "source": [
        "# Training the Word2Vec model\n",
        "model = Word2Vec(sentences, min_count=1)"
      ],
      "execution_count": 39,
      "outputs": []
    },
    {
      "cell_type": "code",
      "metadata": {
        "id": "w9cHzmNQLuFd"
      },
      "source": [
        "words = model.wv.vocab"
      ],
      "execution_count": 40,
      "outputs": []
    },
    {
      "cell_type": "code",
      "metadata": {
        "colab": {
          "base_uri": "https://localhost:8080/"
        },
        "id": "gSnQziOcLuqm",
        "outputId": "831459e6-8a06-4bbb-a2b1-79f2403998c4"
      },
      "source": [
        "# Finding Word Vectors\n",
        "vector = model.wv['resources']\n",
        "vector"
      ],
      "execution_count": 44,
      "outputs": [
        {
          "output_type": "execute_result",
          "data": {
            "text/plain": [
              "array([-1.63135398e-03, -3.31525132e-03,  3.02319694e-03, -2.31692815e-04,\n",
              "        2.15688138e-03,  2.52071419e-04, -3.14720115e-03,  4.27114125e-03,\n",
              "       -1.06322044e-03, -1.01960532e-03,  3.46127636e-04, -2.07483303e-03,\n",
              "       -1.16047112e-03, -4.99474537e-03, -3.97295225e-03,  2.39629935e-05,\n",
              "        4.33721486e-03, -3.85518908e-03,  1.52501022e-03,  1.84375735e-03,\n",
              "        4.61666891e-03,  2.42121983e-03, -8.66362592e-04, -2.43267976e-04,\n",
              "        2.55593273e-04, -4.34675161e-03,  1.54579803e-03,  3.35206999e-03,\n",
              "       -4.83794278e-03,  1.37493876e-03,  2.42572115e-03, -2.26149126e-03,\n",
              "       -1.73498725e-03, -3.80001799e-03, -1.36061921e-03,  3.76469339e-03,\n",
              "        4.99035604e-03, -3.05411662e-03, -2.18362291e-03,  2.05908832e-03,\n",
              "        3.10692959e-03,  3.41735105e-03, -7.17874907e-04,  2.67088437e-03,\n",
              "       -2.57574534e-03,  2.36363127e-03,  9.56012344e-04,  3.36621911e-03,\n",
              "       -4.84720850e-03,  3.34090926e-03,  5.80329041e-04, -3.27191921e-03,\n",
              "        9.85806342e-04,  4.73844493e-03,  4.69357194e-03,  3.36131128e-03,\n",
              "       -2.28677061e-04,  4.50040679e-03,  1.50694992e-04, -4.62838681e-03,\n",
              "        8.29099561e-04,  3.83278518e-03,  1.66915543e-03,  3.70564871e-03,\n",
              "        3.99369234e-03, -1.65377872e-03, -3.79193551e-03, -3.79760214e-03,\n",
              "       -4.02086601e-03,  4.31628723e-04, -2.85576354e-03,  3.83055955e-03,\n",
              "        3.31234350e-03,  8.53459758e-04, -4.93936846e-03, -1.03019105e-04,\n",
              "       -2.85422616e-03,  2.86399713e-03,  3.55720986e-03, -2.10870197e-03,\n",
              "        4.41390602e-03, -2.02412208e-04,  3.98978853e-04,  4.28753160e-03,\n",
              "       -1.46999315e-03, -2.19311056e-04,  3.41353170e-03,  2.33055005e-04,\n",
              "        1.14255305e-03,  3.16563062e-03, -1.64633151e-04,  3.14548588e-03,\n",
              "       -1.30957121e-03,  3.46660637e-03, -4.77594929e-03, -4.87097306e-03,\n",
              "       -4.24540089e-03,  4.95442282e-03, -1.00775345e-04,  4.43004910e-03],\n",
              "      dtype=float32)"
            ]
          },
          "metadata": {},
          "execution_count": 44
        }
      ]
    },
    {
      "cell_type": "code",
      "metadata": {
        "colab": {
          "base_uri": "https://localhost:8080/"
        },
        "id": "v-0pTM6qLxDu",
        "outputId": "34947021-bd85-4f67-8991-2d6bcd114220"
      },
      "source": [
        "# Most similar words\n",
        "similar = model.wv.most_similar('science')\n",
        "similar"
      ],
      "execution_count": 45,
      "outputs": [
        {
          "output_type": "execute_result",
          "data": {
            "text/plain": [
              "[('order', 0.2602863609790802),\n",
              " ('projects', 0.23091992735862732),\n",
              " ('theoretical', 0.20640018582344055),\n",
              " ('interchangeably', 0.19545823335647583),\n",
              " ('learning', 0.17712444067001343),\n",
              " ('become', 0.1725119650363922),\n",
              " ('cause', 0.16177833080291748),\n",
              " ('programs', 0.15434226393699646),\n",
              " ('like', 0.14916804432868958),\n",
              " ('rebranded', 0.14802436530590057)]"
            ]
          },
          "metadata": {},
          "execution_count": 45
        }
      ]
    }
  ]
}