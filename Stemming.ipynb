{
  "nbformat": 4,
  "nbformat_minor": 0,
  "metadata": {
    "colab": {
      "name": "Stemming.ipynb",
      "provenance": [],
      "collapsed_sections": [],
      "authorship_tag": "ABX9TyPY4m+bzJNInTBOLd/oGH7m",
      "include_colab_link": true
    },
    "kernelspec": {
      "name": "python3",
      "display_name": "Python 3"
    },
    "language_info": {
      "name": "python"
    }
  },
  "cells": [
    {
      "cell_type": "markdown",
      "metadata": {
        "id": "view-in-github",
        "colab_type": "text"
      },
      "source": [
        "<a href=\"https://colab.research.google.com/github/boleamol/NLP/blob/main/Stemming.ipynb\" target=\"_parent\"><img src=\"https://colab.research.google.com/assets/colab-badge.svg\" alt=\"Open In Colab\"/></a>"
      ]
    },
    {
      "cell_type": "code",
      "metadata": {
        "id": "3tC23pvO9m7-"
      },
      "source": [
        "import re\n",
        "import nltk\n",
        "from nltk.stem import PorterStemmer\n",
        "from nltk.corpus import stopwords"
      ],
      "execution_count": 20,
      "outputs": []
    },
    {
      "cell_type": "code",
      "metadata": {
        "colab": {
          "base_uri": "https://localhost:8080/"
        },
        "id": "Fh3O6ZfX_k65",
        "outputId": "42c21059-f018-4b86-9bb2-5b0fa9eef09a"
      },
      "source": [
        "nltk.download('punkt')\n",
        "nltk.download('stopwords')"
      ],
      "execution_count": 21,
      "outputs": [
        {
          "output_type": "stream",
          "text": [
            "[nltk_data] Downloading package punkt to /root/nltk_data...\n",
            "[nltk_data]   Package punkt is already up-to-date!\n",
            "[nltk_data] Downloading package stopwords to /root/nltk_data...\n",
            "[nltk_data]   Package stopwords is already up-to-date!\n"
          ],
          "name": "stdout"
        },
        {
          "output_type": "execute_result",
          "data": {
            "text/plain": [
              "True"
            ]
          },
          "metadata": {},
          "execution_count": 21
        }
      ]
    },
    {
      "cell_type": "code",
      "metadata": {
        "id": "5jwqVy-J9ymK"
      },
      "source": [
        "paragraph = \"\"\"Data science is an interdisciplinary field that uses scientific methods, processes, algorithms and systems to extract knowledge and insights from data in various forms, both structured and unstructured, similar to data mining. Data science is a \"concept to unify statistics, data analysis, machine learning and their related methods\" in order to \"understand and analyze actual phenomena\" with data. It employs techniques and theories drawn from many fields within the context of mathematics, statistics, information science, and computer science. Turing award winner Jim Gray imagined data science as a \"fourth paradigm\" of science (empirical, theoretical, computational and now data-driven) and asserted that \"everything about science is changing because of the impact of information technology\" and the data deluge. Data Science is now often used interchangeably with earlier concepts like business analytics, business intelligence, predictive modeling, and statistics. In many cases, earlier approaches and solutions are now simply rebranded as \"data science\" to be more attractive, which can cause the term to become \"dilute beyond usefulness.\"While many university programs now offer a data science degree, there exists no consensus on a definition or suitable curriculum contents.To its discredit, however, many data-science and big-data projects fail to deliver useful results, often as a result of poor management and utilization of resources.\"\"\""
      ],
      "execution_count": 28,
      "outputs": []
    },
    {
      "cell_type": "code",
      "metadata": {
        "id": "nbjdy5x994EZ"
      },
      "source": [
        "sentences = nltk.sent_tokenize(paragraph)  # converted paragraph tp sentences.\n",
        "stemmer = PorterStemmer()\n",
        "corpus = []"
      ],
      "execution_count": 29,
      "outputs": []
    },
    {
      "cell_type": "code",
      "metadata": {
        "id": "pc3WDbb997Pv"
      },
      "source": [
        "# Stemming\n",
        "for i in range(len(sentences)):\n",
        "    review = re.sub('[^a-zA-Z]', ' ', sentences[i])  # Removing special symbol from Sentence\n",
        "    review = review.lower()    # Converted Sentence tp Lower case\n",
        "    review = review.split()    # Splitted Sentence to Words\n",
        "    review = [stemmer.stem(word) for word in review if not word in set(stopwords.words('english'))]  # Removing stopwords\n",
        "    review = ' '.join(review)\n",
        "    corpus.append(review)  # Appended to corpus"
      ],
      "execution_count": 30,
      "outputs": []
    },
    {
      "cell_type": "code",
      "metadata": {
        "colab": {
          "base_uri": "https://localhost:8080/"
        },
        "id": "BWLJ7IOK_gdH",
        "outputId": "fb0da2f3-aaa3-4b3e-ab06-229253d74f9d"
      },
      "source": [
        "sentences"
      ],
      "execution_count": 31,
      "outputs": [
        {
          "output_type": "execute_result",
          "data": {
            "text/plain": [
              "['Data science is an interdisciplinary field that uses scientific methods, processes, algorithms and systems to extract knowledge and insights from data in various forms, both structured and unstructured, similar to data mining.',\n",
              " 'Data science is a \"concept to unify statistics, data analysis, machine learning and their related methods\" in order to \"understand and analyze actual phenomena\" with data.',\n",
              " 'It employs techniques and theories drawn from many fields within the context of mathematics, statistics, information science, and computer science.',\n",
              " 'Turing award winner Jim Gray imagined data science as a \"fourth paradigm\" of science (empirical, theoretical, computational and now data-driven) and asserted that \"everything about science is changing because of the impact of information technology\" and the data deluge.',\n",
              " 'Data Science is now often used interchangeably with earlier concepts like business analytics, business intelligence, predictive modeling, and statistics.',\n",
              " 'In many cases, earlier approaches and solutions are now simply rebranded as \"data science\" to be more attractive, which can cause the term to become \"dilute beyond usefulness.',\n",
              " '\"While many university programs now offer a data science degree, there exists no consensus on a definition or suitable curriculum contents.To its discredit, however, many data-science and big-data projects fail to deliver useful results, often as a result of poor management and utilization of resources.']"
            ]
          },
          "metadata": {},
          "execution_count": 31
        }
      ]
    },
    {
      "cell_type": "code",
      "metadata": {
        "colab": {
          "base_uri": "https://localhost:8080/"
        },
        "id": "BfF2CMTuAiZg",
        "outputId": "af52b72f-2196-4d71-8ae6-ab40b6d7c861"
      },
      "source": [
        "corpus"
      ],
      "execution_count": 32,
      "outputs": [
        {
          "output_type": "execute_result",
          "data": {
            "text/plain": [
              "['data scienc interdisciplinari field use scientif method process algorithm system extract knowledg insight data variou form structur unstructur similar data mine',\n",
              " 'data scienc concept unifi statist data analysi machin learn relat method order understand analyz actual phenomena data',\n",
              " 'employ techniqu theori drawn mani field within context mathemat statist inform scienc comput scienc',\n",
              " 'ture award winner jim gray imagin data scienc fourth paradigm scienc empir theoret comput data driven assert everyth scienc chang impact inform technolog data delug',\n",
              " 'data scienc often use interchang earlier concept like busi analyt busi intellig predict model statist',\n",
              " 'mani case earlier approach solut simpli rebrand data scienc attract caus term becom dilut beyond use',\n",
              " 'mani univers program offer data scienc degre exist consensu definit suitabl curriculum content discredit howev mani data scienc big data project fail deliv use result often result poor manag util resourc']"
            ]
          },
          "metadata": {},
          "execution_count": 32
        }
      ]
    }
  ]
}