{
  "nbformat": 4,
  "nbformat_minor": 0,
  "metadata": {
    "colab": {
      "name": "Lemmatization.ipynb",
      "provenance": [],
      "collapsed_sections": [],
      "authorship_tag": "ABX9TyMl2vZ6RqsTa2vFW08Sb3AL",
      "include_colab_link": true
    },
    "kernelspec": {
      "name": "python3",
      "display_name": "Python 3"
    },
    "language_info": {
      "name": "python"
    }
  },
  "cells": [
    {
      "cell_type": "markdown",
      "metadata": {
        "id": "view-in-github",
        "colab_type": "text"
      },
      "source": [
        "<a href=\"https://colab.research.google.com/github/boleamol/NLP/blob/main/Lemmatization.ipynb\" target=\"_parent\"><img src=\"https://colab.research.google.com/assets/colab-badge.svg\" alt=\"Open In Colab\"/></a>"
      ]
    },
    {
      "cell_type": "code",
      "metadata": {
        "id": "txXxdRT0CkvT"
      },
      "source": [
        "import re\n",
        "import nltk\n",
        "from nltk.stem import WordNetLemmatizer\n",
        "from nltk.corpus import stopwords"
      ],
      "execution_count": 1,
      "outputs": []
    },
    {
      "cell_type": "code",
      "metadata": {
        "colab": {
          "base_uri": "https://localhost:8080/"
        },
        "id": "34fNlIXeDBoM",
        "outputId": "a0b0808e-979b-441b-a128-ea5c509e6759"
      },
      "source": [
        "nltk.download('punkt')\n",
        "nltk.download('stopwords')\n",
        "nltk.download('wordnet')"
      ],
      "execution_count": 6,
      "outputs": [
        {
          "output_type": "stream",
          "text": [
            "[nltk_data] Downloading package punkt to /root/nltk_data...\n",
            "[nltk_data]   Package punkt is already up-to-date!\n",
            "[nltk_data] Downloading package stopwords to /root/nltk_data...\n",
            "[nltk_data]   Package stopwords is already up-to-date!\n",
            "[nltk_data] Downloading package wordnet to /root/nltk_data...\n",
            "[nltk_data]   Unzipping corpora/wordnet.zip.\n"
          ],
          "name": "stdout"
        },
        {
          "output_type": "execute_result",
          "data": {
            "text/plain": [
              "True"
            ]
          },
          "metadata": {},
          "execution_count": 6
        }
      ]
    },
    {
      "cell_type": "code",
      "metadata": {
        "id": "MWjtUc57DGba"
      },
      "source": [
        "paragraph = \"\"\"Data science is an interdisciplinary field that uses scientific methods, processes, algorithms and systems to extract knowledge and insights from data in various forms, both structured and unstructured, similar to data mining. Data science is a \"concept to unify statistics, data analysis, machine learning and their related methods\" in order to \"understand and analyze actual phenomena\" with data. It employs techniques and theories drawn from many fields within the context of mathematics, statistics, information science, and computer science. Turing award winner Jim Gray imagined data science as a \"fourth paradigm\" of science (empirical, theoretical, computational and now data-driven) and asserted that \"everything about science is changing because of the impact of information technology\" and the data deluge. Data Science is now often used interchangeably with earlier concepts like business analytics, business intelligence, predictive modeling, and statistics. In many cases, earlier approaches and solutions are now simply rebranded as \"data science\" to be more attractive, which can cause the term to become \"dilute beyond usefulness.\"While many university programs now offer a data science degree, there exists no consensus on a definition or suitable curriculum contents.To its discredit, however, many data-science and big-data projects fail to deliver useful results, often as a result of poor management and utilization of resources.\"\"\""
      ],
      "execution_count": 7,
      "outputs": []
    },
    {
      "cell_type": "code",
      "metadata": {
        "id": "hRiXsE2nDHER"
      },
      "source": [
        "sentences = nltk.sent_tokenize(paragraph)  # converted paragraph tp sentences.\n",
        "lemmatizer = WordNetLemmatizer()\n",
        "corpus = []"
      ],
      "execution_count": 8,
      "outputs": []
    },
    {
      "cell_type": "code",
      "metadata": {
        "id": "7aLiGB_JDKV5"
      },
      "source": [
        "# Lemmatization\n",
        "for i in range(len(sentences)):\n",
        "    review = re.sub('[^a-zA-Z]', ' ', sentences[i])  # Removing special symbol from Sentence\n",
        "    review = review.lower()    # Converted Sentence tp Lower case\n",
        "    review = review.split()    # Splitted Sentence to Words\n",
        "    review = [lemmatizer.lemmatize(word) for word in review if not word in set(stopwords.words('english'))]  # Removing stopwords and Lemmatization\n",
        "    review = ' '.join(review)\n",
        "    corpus.append(review)  # Appended to corpus"
      ],
      "execution_count": 10,
      "outputs": []
    },
    {
      "cell_type": "code",
      "metadata": {
        "colab": {
          "base_uri": "https://localhost:8080/"
        },
        "id": "9yoD_e-mDOeI",
        "outputId": "b4d6a14a-8e81-468f-b796-e5608419c2e9"
      },
      "source": [
        "sentences"
      ],
      "execution_count": 11,
      "outputs": [
        {
          "output_type": "execute_result",
          "data": {
            "text/plain": [
              "['Data science is an interdisciplinary field that uses scientific methods, processes, algorithms and systems to extract knowledge and insights from data in various forms, both structured and unstructured, similar to data mining.',\n",
              " 'Data science is a \"concept to unify statistics, data analysis, machine learning and their related methods\" in order to \"understand and analyze actual phenomena\" with data.',\n",
              " 'It employs techniques and theories drawn from many fields within the context of mathematics, statistics, information science, and computer science.',\n",
              " 'Turing award winner Jim Gray imagined data science as a \"fourth paradigm\" of science (empirical, theoretical, computational and now data-driven) and asserted that \"everything about science is changing because of the impact of information technology\" and the data deluge.',\n",
              " 'Data Science is now often used interchangeably with earlier concepts like business analytics, business intelligence, predictive modeling, and statistics.',\n",
              " 'In many cases, earlier approaches and solutions are now simply rebranded as \"data science\" to be more attractive, which can cause the term to become \"dilute beyond usefulness.',\n",
              " '\"While many university programs now offer a data science degree, there exists no consensus on a definition or suitable curriculum contents.To its discredit, however, many data-science and big-data projects fail to deliver useful results, often as a result of poor management and utilization of resources.']"
            ]
          },
          "metadata": {},
          "execution_count": 11
        }
      ]
    },
    {
      "cell_type": "code",
      "metadata": {
        "colab": {
          "base_uri": "https://localhost:8080/"
        },
        "id": "aFqe0a0gDQb8",
        "outputId": "5c3ba725-da29-4fb1-fd86-ad1e92b44b2a"
      },
      "source": [
        "corpus"
      ],
      "execution_count": 12,
      "outputs": [
        {
          "output_type": "execute_result",
          "data": {
            "text/plain": [
              "['data science interdisciplinary field us scientific method process algorithm system extract knowledge insight data various form structured unstructured similar data mining',\n",
              " 'data science concept unify statistic data analysis machine learning related method order understand analyze actual phenomenon data',\n",
              " 'employ technique theory drawn many field within context mathematics statistic information science computer science',\n",
              " 'turing award winner jim gray imagined data science fourth paradigm science empirical theoretical computational data driven asserted everything science changing impact information technology data deluge',\n",
              " 'data science often used interchangeably earlier concept like business analytics business intelligence predictive modeling statistic',\n",
              " 'many case earlier approach solution simply rebranded data science attractive cause term become dilute beyond usefulness',\n",
              " 'many university program offer data science degree exists consensus definition suitable curriculum content discredit however many data science big data project fail deliver useful result often result poor management utilization resource',\n",
              " 'data science interdisciplinary field us scientific method process algorithm system extract knowledge insight data various form structured unstructured similar data mining',\n",
              " 'data science concept unify statistic data analysis machine learning related method order understand analyze actual phenomenon data',\n",
              " 'employ technique theory drawn many field within context mathematics statistic information science computer science',\n",
              " 'turing award winner jim gray imagined data science fourth paradigm science empirical theoretical computational data driven asserted everything science changing impact information technology data deluge',\n",
              " 'data science often used interchangeably earlier concept like business analytics business intelligence predictive modeling statistic',\n",
              " 'many case earlier approach solution simply rebranded data science attractive cause term become dilute beyond usefulness',\n",
              " 'many university program offer data science degree exists consensus definition suitable curriculum content discredit however many data science big data project fail deliver useful result often result poor management utilization resource']"
            ]
          },
          "metadata": {},
          "execution_count": 12
        }
      ]
    },
    {
      "cell_type": "code",
      "metadata": {
        "id": "p6JotupqEaJb"
      },
      "source": [
        ""
      ],
      "execution_count": null,
      "outputs": []
    }
  ]
}